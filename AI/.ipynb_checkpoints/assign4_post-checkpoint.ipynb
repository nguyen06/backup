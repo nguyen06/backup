{
 "cells": [
  {
   "cell_type": "markdown",
   "metadata": {},
   "source": [
    "Assignment 4 - Classifying handwritten digits using Numpy and Tensorflow.\n",
    "--\n",
    "For this assignment, you should complete the exercises in this notebook. It is similar to the notebook posted for binary logistic regression. \n",
    "\n",
    "Look for requests containing the text **\"your code\"**. E.g. \"put your code here\", \"replace None by your code\", etc.\n",
    "If there is no such request in a cell, just run the cell."
   ]
  },
  {
   "cell_type": "code",
   "execution_count": 1,
   "metadata": {
    "collapsed": true
   },
   "outputs": [],
   "source": [
    "import numpy as np\n",
    "import matplotlib.pyplot as plt\n",
    "import scipy\n",
    "from scipy import ndimage\n",
    "import time\n",
    "import pickle\n",
    "\n",
    "\n",
    "%matplotlib inline"
   ]
  },
  {
   "cell_type": "code",
   "execution_count": 2,
   "metadata": {},
   "outputs": [],
   "source": [
    "# Let's load the dataset of handwritten digits from a Python pickle file. \n",
    "# For information on pickle files, see: https://pythontips.com/2013/08/02/what-is-pickle-in-python\n",
    "# The pickle file contains 55,000 training images and their labels as well as\n",
    "# 10,000 test images and their labels.\n",
    "\n",
    "fileObject = open(\"mnist_nonbin_classification.pickle\",'rb')  \n",
    "X,Y,X_test,Y_test = pickle.load(fileObject)\n",
    "fileObject.close()"
   ]
  },
  {
   "cell_type": "code",
   "execution_count": 3,
   "metadata": {},
   "outputs": [
    {
     "data": {
      "text/plain": [
       "<matplotlib.image.AxesImage at 0x10e0b05f8>"
      ]
     },
     "execution_count": 3,
     "metadata": {},
     "output_type": "execute_result"
    },
    {
     "data": {
      "image/png": "[encoded data removed]",
      "text/plain": [
       "<matplotlib.figure.Figure at 0x10de64d68>"
      ]
     },
     "metadata": {},
     "output_type": "display_data"
    }
   ],
   "source": [
    "# Let's view some images\n",
    "\n",
    "plt.figure()\n",
    "plt.imshow(X[0,:].reshape((28,28)), cmap='Greys')\n",
    "\n",
    "# Feel free to display other images by changing the index 0 above to some other index. "
   ]
  },
  {
   "cell_type": "code",
   "execution_count": 4,
   "metadata": {},
   "outputs": [
    {
     "name": "stdout",
     "output_type": "stream",
     "text": [
      "Train dataset shape (55000, 784) (55000, 1)\n",
      "Test dataset shape (10000, 784) (10000, 1)\n",
      "Y = [[7]\n",
      " [3]\n",
      " [4]\n",
      " ..., \n",
      " [5]\n",
      " [6]\n",
      " [8]]\n",
      "55000\n"
     ]
    }
   ],
   "source": [
    "# We will reshape the Y arrays so that they are not rank 1 arrays but rank 2 arrays. \n",
    "# They should be rank 2 arrays.\n",
    "\n",
    "Y = Y.reshape((Y.shape[0],1))\n",
    "Y_test = Y_test.reshape((Y_test.shape[0],1))\n",
    "\n",
    "print(\"Train dataset shape\", X.shape, Y.shape)\n",
    "print(\"Test dataset shape\", X_test.shape, Y_test.shape)\n",
    "\n",
    "print(\"Y =\", Y)\n",
    "\n",
    "m   = X.shape[0] \n",
    "n_x = X.shape[1]\n",
    "print(m)\n",
    "\n",
    "C = 10"
   ]
  },
  {
   "cell_type": "markdown",
   "metadata": {},
   "source": [
    "Exercise 1 - One Hot Encoding\n",
    "--\n",
    "\n",
    "Convert Y to \"one-hot\" encoding. E.g. if the original Y is \n",
    "$$\n",
    "Y = \\begin{bmatrix}\n",
    "    1 \\\\\n",
    "    5 \\\\\n",
    "    9  \n",
    "\\end{bmatrix}\n",
    "$$\n",
    "the new Y should be\n",
    "$$\n",
    "Y = \\begin{bmatrix}\n",
    "    0 & 1 & 0 & 0 & 0 & 0 & 0 & 0 & 0 & 0\\\\\n",
    "    0 & 0 & 0 & 0 & 0 & 1 & 0 & 0 & 0 & 0\\\\\n",
    "    0 & 0 & 0 & 0 & 0 & 0 & 0 & 0 & 0 & 1\\\\ \n",
    "\\end{bmatrix}\n",
    "$$"
   ]
  },
  {
   "cell_type": "code",
   "execution_count": 5,
   "metadata": {},
   "outputs": [
    {
     "data": {
      "text/plain": [
       "array([0, 1, 2, 3, 4, 5, 6, 7, 8, 9])"
      ]
     },
     "execution_count": 5,
     "metadata": {},
     "output_type": "execute_result"
    }
   ],
   "source": [
    "# Toward this goal, let's check what np.arange(C) produces\n",
    "np.arange(C)"
   ]
  },
  {
   "cell_type": "code",
   "execution_count": 6,
   "metadata": {},
   "outputs": [
    {
     "name": "stdout",
     "output_type": "stream",
     "text": [
      "(55000, 1)\n"
     ]
    }
   ],
   "source": [
    "# Let's see again what Y is\n",
    "#print(Y)\n",
    "print(Y.shape) #55000 rows, and 1 columns\n",
    "\n",
    "#create a zero matrix with 55000 rows and 1 columns\n",
    "x = np.zeros((55000,10))\n",
    "row = 0\n",
    "for i in np.nditer(Y):\n",
    "    x[row,i]=1\n",
    "    row = row +1\n"
   ]
  },
  {
   "cell_type": "code",
   "execution_count": 7,
   "metadata": {},
   "outputs": [
    {
     "name": "stdout",
     "output_type": "stream",
     "text": [
      "broadcasted np.arange(C) = \n",
      " [[0 1 2 ..., 7 8 9]\n",
      " [0 1 2 ..., 7 8 9]\n",
      " [0 1 2 ..., 7 8 9]\n",
      " ..., \n",
      " [0 1 2 ..., 7 8 9]\n",
      " [0 1 2 ..., 7 8 9]\n",
      " [0 1 2 ..., 7 8 9]]\n",
      "broadcasted Y = \n",
      " [[7 7 7 ..., 7 7 7]\n",
      " [3 3 3 ..., 3 3 3]\n",
      " [4 4 4 ..., 4 4 4]\n",
      " ..., \n",
      " [5 5 5 ..., 5 5 5]\n",
      " [6 6 6 ..., 6 6 6]\n",
      " [8 8 8 ..., 8 8 8]]\n"
     ]
    }
   ],
   "source": [
    "# What would broadcasting these arrays together would look like? \n",
    "# Let's check.\n",
    "\n",
    "a,b = np.broadcast_arrays(np.arange(C), Y)\n",
    "\n",
    "print(\"broadcasted np.arange(C) = \\n\", a)\n",
    "print(\"broadcasted Y = \\n\", b)"
   ]
  },
  {
   "cell_type": "code",
   "execution_count": 8,
   "metadata": {},
   "outputs": [
    {
     "name": "stdout",
     "output_type": "stream",
     "text": [
      "Y_new= [[False False False ...,  True False False]\n",
      " [False False False ..., False False False]\n",
      " [False False False ..., False False False]\n",
      " ..., \n",
      " [False False False ..., False False False]\n",
      " [False False False ..., False False False]\n",
      " [False False False ..., False  True False]]\n",
      "Y= [[0 0 0 ..., 1 0 0]\n",
      " [0 0 0 ..., 0 0 0]\n",
      " [0 0 0 ..., 0 0 0]\n",
      " ..., \n",
      " [0 0 0 ..., 0 0 0]\n",
      " [0 0 0 ..., 0 0 0]\n",
      " [0 0 0 ..., 0 1 0]]\n",
      "Y_new_test= [[False False False ...,  True False False]\n",
      " [False False  True ..., False False False]\n",
      " [False  True False ..., False False False]\n",
      " ..., \n",
      " [False False False ..., False False False]\n",
      " [False False False ..., False False False]\n",
      " [False False False ..., False False False]]\n",
      "Y_test= [[0 0 0 ..., 1 0 0]\n",
      " [0 0 1 ..., 0 0 0]\n",
      " [0 1 0 ..., 0 0 0]\n",
      " ..., \n",
      " [0 0 0 ..., 0 0 0]\n",
      " [0 0 0 ..., 0 0 0]\n",
      " [0 0 0 ..., 0 0 0]]\n"
     ]
    }
   ],
   "source": [
    "# If we compare np.arange(C) with Y using the equality sign ==, \n",
    "# the numpy broadcasting will do its magic to give us what we want. \n",
    "# Try it out. Then assign the result to a new variable Y_new. \n",
    "# Don't worry for the \"True\" and \"False\" values looking like strings. \n",
    "# They behave in fact like numbers, i.e. True is 1, False is 0.\n",
    "# Finally, assign Y_new to Y so that we have to deal with Y in rest of the notebook.\n",
    "# Cast the boolean values of Y_new to integer by calling Y_new.astype(int)\n",
    "\n",
    "# Put your code in place of None objects\n",
    "\n",
    "Y_new = b == np.arange(C)\n",
    "print(\"Y_new=\", Y_new)\n",
    "Y = Y_new.astype(int)\n",
    "print(\"Y=\",Y)\n",
    "a,c = np.broadcast_arrays(np.arange(C), Y_test)\n",
    "\n",
    "Y_new_test =  c == np.arange(C)\n",
    "print(\"Y_new_test=\", Y_new_test)\n",
    "Y_test = Y_new_test.astype(int)\n",
    "print(\"Y_test=\",Y_test)"
   ]
  },
  {
   "cell_type": "markdown",
   "metadata": {},
   "source": [
    "*Expected output*\n",
    "\n",
    "<pre>\n",
    "Y_new= [[False False False ...,  True False False]\n",
    " [False False False ..., False False False]\n",
    " [False False False ..., False False False]\n",
    " ..., \n",
    " [False False False ..., False False False]\n",
    " [False False False ..., False False False]\n",
    " [False False False ..., False  True False]]\n",
    "Y= [[0 0 0 ..., 1 0 0]\n",
    " [0 0 0 ..., 0 0 0]\n",
    " [0 0 0 ..., 0 0 0]\n",
    " ..., \n",
    " [0 0 0 ..., 0 0 0]\n",
    " [0 0 0 ..., 0 0 0]\n",
    " [0 0 0 ..., 0 1 0]]\n",
    "Y_new_test= [[False False False ...,  True False False]\n",
    " [False False  True ..., False False False]\n",
    " [False  True False ..., False False False]\n",
    " ..., \n",
    " [False False False ..., False False False]\n",
    " [False False False ..., False False False]\n",
    " [False False False ..., False False False]]\n",
    "Y_test= [[0 0 0 ..., 1 0 0]\n",
    " [0 0 1 ..., 0 0 0]\n",
    " [0 1 0 ..., 0 0 0]\n",
    " ..., \n",
    " [0 0 0 ..., 0 0 0]\n",
    " [0 0 0 ..., 0 0 0]\n",
    " [0 0 0 ..., 0 0 0]]\n",
    "</pre>"
   ]
  },
  {
   "cell_type": "markdown",
   "metadata": {},
   "source": [
    "Exercise 2 - The Softmax Function\n",
    "--\n",
    "(Adapted from Andrew Ng's exercise in Coursera, deeplearning.ai)\n",
    "\n",
    "Implement a softmax function using numpy. Softmax is a normalizing function used when the algorithm needs to classify two or more classes. \n",
    "\n",
    "**Instructions**:\n",
    "- for $x \\in \\mathbb{R}^{1\\times n}$ \n",
    "$$\\mbox{softmax}(x) = \\mbox{softmax}\\left(\\begin{bmatrix}\n",
    "    x_1  &&\n",
    "    x_2 &&\n",
    "    ...  &&\n",
    "    x_n  \n",
    "\\end{bmatrix}\\right) = \\begin{bmatrix}\n",
    "     \\frac{e^{x_1}}{\\sum_{j}e^{x_j}}  &&\n",
    "    \\frac{e^{x_2}}{\\sum_{j}e^{x_j}}  &&\n",
    "    ...  &&\n",
    "    \\frac{e^{x_n}}{\\sum_{j}e^{x_j}} \n",
    "\\end{bmatrix} $$ \n",
    "\n",
    "- for a matrix $x \\in \\mathbb{R}^{m \\times n}$  \n",
    "$$\\mbox{softmax}(x) = \\mbox{softmax}\\begin{bmatrix}\n",
    "    x_{11} & x_{12} & x_{13} & \\dots  & x_{1n} \\\\\n",
    "    x_{21} & x_{22} & x_{23} & \\dots  & x_{2n} \\\\\n",
    "    \\vdots & \\vdots & \\vdots & \\ddots & \\vdots \\\\\n",
    "    x_{m1} & x_{m2} & x_{m3} & \\dots  & x_{mn}\n",
    "\\end{bmatrix} = \\begin{bmatrix}\n",
    "    \\frac{e^{x_{11}}}{\\sum_{j}e^{x_{1j}}} & \\frac{e^{x_{12}}}{\\sum_{j}e^{x_{1j}}} & \\frac{e^{x_{13}}}{\\sum_{j}e^{x_{1j}}} & \\dots  & \\frac{e^{x_{1n}}}{\\sum_{j}e^{x_{1j}}} \\\\\n",
    "    \\frac{e^{x_{21}}}{\\sum_{j}e^{x_{2j}}} & \\frac{e^{x_{22}}}{\\sum_{j}e^{x_{2j}}} & \\frac{e^{x_{23}}}{\\sum_{j}e^{x_{2j}}} & \\dots  & \\frac{e^{x_{2n}}}{\\sum_{j}e^{x_{2j}}} \\\\\n",
    "    \\vdots & \\vdots & \\vdots & \\ddots & \\vdots \\\\\n",
    "    \\frac{e^{x_{m1}}}{\\sum_{j}e^{x_{mj}}} & \\frac{e^{x_{m2}}}{\\sum_{j}e^{x_{mj}}} & \\frac{e^{x_{m3}}}{\\sum_{j}e^{x_{mj}}} & \\dots  & \\frac{e^{x_{mn}}}{\\sum_{j}e^{x_{mj}}}\n",
    "\\end{bmatrix} = \\begin{pmatrix}\n",
    "    \\mbox{softmax}\\text{(first row of x)}  \\\\\n",
    "    \\mbox{softmax}\\text{(second row of x)} \\\\\n",
    "    ...  \\\\\n",
    "    \\mbox{softmax}\\text{(last row of x)} \\\\\n",
    "\\end{pmatrix} $$"
   ]
  },
  {
   "cell_type": "code",
   "execution_count": 9,
   "metadata": {},
   "outputs": [
    {
     "name": "stdout",
     "output_type": "stream",
     "text": [
      "softmax(x) = [[  6.74508059e-02   1.83350300e-01   4.98397788e-01   6.74508059e-02\n",
      "    1.83350300e-01]\n",
      " [  9.81452586e-01   1.79759312e-02   3.29240664e-04   1.21120871e-04\n",
      "    1.21120871e-04]]\n"
     ]
    }
   ],
   "source": [
    "def softmax(x):\n",
    "    # Create an array x_exp by applying np.exp() element-wise to x. \n",
    "    # Put your code here (one line)\n",
    "    x_exp = np.exp(x)\n",
    "    # Create an array x_sum that contains the sum of each row of x_exp. \n",
    "    # Use np.sum(..., axis = 1, keepdims = True).\n",
    "    # Put your code here (one line)\n",
    "    \n",
    "    # Compute softmax(x) by dividing x_exp by x_sum. It should automatically use numpy broadcasting.\n",
    "    # Return this array.\n",
    "    # Replace None with your code\n",
    "    x_sum = np.sum(x_exp,axis=1,keepdims=True)\n",
    "    result = x_exp/x_sum\n",
    "    return result\n",
    "\n",
    "\n",
    "# Let's test\n",
    "x = np.array([\n",
    "    [1, 2, 3, 1, 2],\n",
    "    [9, 5, 1, 0 ,0]])\n",
    "print(\"softmax(x) = \" + str(softmax(x)))"
   ]
  },
  {
   "cell_type": "markdown",
   "metadata": {},
   "source": [
    "*Expected output*\n",
    "\n",
    "<pre>\n",
    "softmax(x) = [[  6.74508059e-02   1.83350300e-01   4.98397788e-01   6.74508059e-02\n",
    "    1.83350300e-01]\n",
    " [  9.81452586e-01   1.79759312e-02   3.29240664e-04   1.21120871e-04\n",
    "    1.21120871e-04]]\n",
    "</pre>"
   ]
  },
  {
   "cell_type": "markdown",
   "metadata": {},
   "source": [
    "Exercise 3 - Compute one semi-vectorized iteration for softmax\n",
    "--\n",
    "Perform one semi-vectorized iteration of gradient descent for the softmax classification."
   ]
  },
  {
   "cell_type": "code",
   "execution_count": 10,
   "metadata": {},
   "outputs": [
    {
     "name": "stdout",
     "output_type": "stream",
     "text": [
      "y [[0 0 0 0 0 0 0 1 0 0]]\n",
      "z [[ 0.  0.  0.  0.  0.  0.  0.  0.  0.  0.]]\n",
      "a [[ 0.1  0.1  0.1  0.1  0.1  0.1  0.1  0.1  0.1  0.1]]\n",
      "J 2.30258509299\n",
      "dz [[ 0.1  0.1  0.1  0.1  0.1  0.1  0.1 -0.9  0.1  0.1]]\n",
      "dw [[ 0.  0.  0. ...,  0.  0.  0.]\n",
      " [ 0.  0.  0. ...,  0.  0.  0.]\n",
      " [ 0.  0.  0. ...,  0.  0.  0.]\n",
      " ..., \n",
      " [ 0.  0.  0. ...,  0.  0.  0.]\n",
      " [ 0.  0.  0. ...,  0.  0.  0.]\n",
      " [ 0.  0.  0. ...,  0.  0.  0.]]\n",
      "db [[ 0.1  0.1  0.1  0.1  0.1  0.1  0.1 -0.9  0.1  0.1]]\n"
     ]
    }
   ],
   "source": [
    "# First do this for only one training example (the first one, i=0).\n",
    "# Print out everything you compute, e.g. print(\"z\", z), print(\"a\", a), etc. \n",
    "\n",
    "J = 0\n",
    "w = np.zeros((n_x,C))\n",
    "b = np.zeros((1,C))\n",
    "\n",
    "dw = np.zeros((n_x,C));\n",
    "db = np.zeros((1,C));\n",
    "\n",
    "i = 0;\n",
    "\n",
    "\n",
    "# Replace None objects by your code\n",
    "\n",
    "x = X[i:i+1, : ]  #x is [1,784]\n",
    "y = Y[i:i+1,:]\n",
    "print(\"y\", y)\n",
    "\n",
    "z = x @ w + b\n",
    "print(\"z\", z)\n",
    "a = softmax(z)\n",
    "print(\"a\", a)\n",
    "J = np.sum(-y * np.log(a))\n",
    "print(\"J\", J)\n",
    "\n",
    "dz = a-y\n",
    "print(\"dz\", dz)\n",
    "dw += x.T@dz\n",
    "print(\"dw\", dw)\n",
    "db += np.sum(dz,axis=0,keepdims=True)\n",
    "print(\"db\", db)"
   ]
  },
  {
   "cell_type": "markdown",
   "metadata": {},
   "source": [
    "*Expected output*\n",
    "\n",
    "<pre>\n",
    "y [[0 0 0 0 0 0 0 1 0 0]]\n",
    "z [[ 0.  0.  0.  0.  0.  0.  0.  0.  0.  0.]]\n",
    "a [[ 0.1  0.1  0.1  0.1  0.1  0.1  0.1  0.1  0.1  0.1]]\n",
    "J 2.30258509299\n",
    "dz [[ 0.1  0.1  0.1  0.1  0.1  0.1  0.1 -0.9  0.1  0.1]]\n",
    "dw [[ 0.  0.  0. ...,  0.  0.  0.]\n",
    " [ 0.  0.  0. ...,  0.  0.  0.]\n",
    " [ 0.  0.  0. ...,  0.  0.  0.]\n",
    " ..., \n",
    " [ 0.  0.  0. ...,  0.  0.  0.]\n",
    " [ 0.  0.  0. ...,  0.  0.  0.]\n",
    " [ 0.  0.  0. ...,  0.  0.  0.]]\n",
    "db [[ 0.1  0.1  0.1  0.1  0.1  0.1  0.1 -0.9  0.1  0.1]]\n",
    "</pre>"
   ]
  },
  {
   "cell_type": "code",
   "execution_count": 11,
   "metadata": {},
   "outputs": [
    {
     "name": "stdout",
     "output_type": "stream",
     "text": [
      "J 2.302585093\n",
      "Time needed:  4.605833053588867\n"
     ]
    }
   ],
   "source": [
    "#one iteration, semi-vectorized\n",
    "\n",
    "J = 0\n",
    "w = np.zeros((n_x,C))\n",
    "#print(\"w.shape \",w.shape)\n",
    "b = np.zeros((1,C))\n",
    "\n",
    "dw = np.zeros((n_x,C));\n",
    "db = np.zeros((1,C));\n",
    "\n",
    "alpha = 0.1\n",
    "\n",
    "start_time = time.time()\n",
    "\n",
    "for i in range(m):\n",
    "    # Put your code here\n",
    "    x = X[i:i+1, : ]  #x is [1,784]\n",
    "    y = Y[i:i+1,:]\n",
    "    #print(\"y\", y)\n",
    "\n",
    "    z = x @ w + b\n",
    "    #print(\"z\", z)\n",
    "    a = softmax(z)\n",
    "    #print(\"a\", a)\n",
    "    J += np.sum(-y * np.log(a))\n",
    "    #print(\"J\", J)\n",
    "\n",
    "    dz = a-y\n",
    "    #print(\"dz\", dz)\n",
    "    dw += x.T@dz\n",
    "    #print(\"dw\", dw)\n",
    "    db += np.sum(dz,axis=0,keepdims=True)\n",
    "    #print(\"db\", db)\n",
    "    \n",
    "J /= m; dw /= m; db /= m\n",
    "\n",
    "w -= alpha*dw\n",
    "b -= alpha*db\n",
    "\n",
    "print(\"J\", J)\n",
    "print(\"Time needed: \", time.time() - start_time)\n"
   ]
  },
  {
   "cell_type": "markdown",
   "metadata": {},
   "source": [
    "*Expected output*\n",
    "\n",
    "<pre>\n",
    "J =  2.302585093\n",
    "Time needed:  3.797287702560425\n",
    "</pre>\n",
    "\n",
    "Of course, your running time will be different."
   ]
  },
  {
   "cell_type": "markdown",
   "metadata": {},
   "source": [
    "Exercise 4 - Compute one fully-vectorized iteration for softmax\n",
    "--\n",
    "Perform one fully-vectorized iteration of gradient descent for the softmax classification."
   ]
  },
  {
   "cell_type": "code",
   "execution_count": 12,
   "metadata": {},
   "outputs": [
    {
     "name": "stdout",
     "output_type": "stream",
     "text": [
      "J =  2.30258509299\n",
      "Time needed:  0.6784939765930176\n"
     ]
    }
   ],
   "source": [
    "#one iteration, fully vectorized, no for loop\n",
    "\n",
    "J = 0\n",
    "w = np.zeros((n_x,C))\n",
    "b = np.zeros((1,C))\n",
    "\n",
    "alpha = 0.1\n",
    "\n",
    "start_time = time.time()\n",
    "\n",
    "\n",
    "#Replace the None objects and alpha*0 by your code.\n",
    "\n",
    "# Convention: \n",
    "# Use capital letter when the variable is for the whole dataset of m train examples.\n",
    "\n",
    "# X is (55000,784), Y is (55000,10), w is (784,10), b is (1,10)  \n",
    "Z = X @ w + b               # Z is  (55000, 10)\n",
    "#print(\"Z.shape \",Z.shape)\n",
    "A = softmax(Z)              # A is  (55000, 10)\n",
    "#print(\"A.shape \",A.shape)\n",
    "J = np.sum(-Y * np.log(A))\n",
    "\n",
    "dZ = A -Y               # dZ is (55000, 10)\n",
    "#print(\"dZ.shape \",dZ.shape)\n",
    "dw = (1/m)*X.T@dZ                #dw is (784, 10) \n",
    "#print(\"dw.shape \",dw.shape)\n",
    "db = (1/m) * np.sum(dZ)\n",
    "\n",
    "w -= alpha*0\n",
    "b -= alpha*0\n",
    "J = (1/m)*J\n",
    "print(\"J = \", J)\n",
    "print(\"Time needed: \", time.time() - start_time)"
   ]
  },
  {
   "cell_type": "markdown",
   "metadata": {},
   "source": [
    "*Expected output*\n",
    "\n",
    "<pre>\n",
    "J =  2.30258509299\n",
    "Time needed:  0.5495262145996094\n",
    "</pre>"
   ]
  },
  {
   "cell_type": "markdown",
   "metadata": {},
   "source": [
    "We observe that the time of the fully vectorized version is almost one order of magnitude smaller. "
   ]
  },
  {
   "cell_type": "markdown",
   "metadata": {},
   "source": [
    "Exercise 5 - Compute several fully-vectorized iterations for softmax\n",
    "--\n",
    "Perform 100 fully-vectorized iterations of gradient descent for the softmax classification.\n",
    "Start with doing 10 iterations first, check the accuracy you achieve, then try for 100 iterations. \n",
    "Print out the cost after each iteration."
   ]
  },
  {
   "cell_type": "code",
   "execution_count": 13,
   "metadata": {},
   "outputs": [],
   "source": [
    "J = 0\n",
    "w = np.zeros((n_x,C))\n",
    "b = np.zeros((1,C))\n",
    "\n",
    "alpha = 0.1\n",
    "\n",
    "#Replace the None objects and alpha*0 by your code.\n",
    "\n",
    "# Convention: \n",
    "# Use capital letter when the variable is for the whole dataset of m train examples.\n",
    "\n",
    "for iter in range(100):\n",
    "    # X is (55000,784), Y is (55000,10), w is (784,10), b is (1,10)  \n",
    "    Z = X @ w + b               # Z is  (55000, 10)\n",
    "    #print(\"Z.shape \",Z.shape)\n",
    "    A = softmax(Z)              # A is  (55000, 10)\n",
    "    #print(\"A.shape \",A.shape)\n",
    "    J = (1/m)* np.sum(-Y * np.log(A))\n",
    "\n",
    "    dZ = A -Y               # dZ is (55000, 10)\n",
    "    #print(\"dZ.shape \",dZ.shape)\n",
    "    dw = (1/m)*X.T@dZ                #dw is (784, 10) \n",
    "    #print(\"dw.shape \",dw.shape)\n",
    "    db = (1/m) * np.sum(dZ)\n",
    "\n",
    "    w -= alpha*dw\n",
    "    b -= alpha*db\n",
    "    #print(iter, J)\n"
   ]
  },
  {
   "cell_type": "markdown",
   "metadata": {},
   "source": [
    "*Expected output*\n",
    "\n",
    "<pre>\n",
    "0 2.30258509299\n",
    "1 2.19706377599\n",
    "2 2.10085951391\n",
    "3 2.0120441413\n",
    "4 1.92974131203\n",
    "5 1.85342090129\n",
    "6 1.78266241239\n",
    "7 1.71707943589\n",
    "8 1.65629942394\n",
    "9 1.59996131888\n",
    "</pre>"
   ]
  },
  {
   "cell_type": "markdown",
   "metadata": {},
   "source": [
    "Exercise 6 - Compute the accuracy\n",
    "--\n",
    "Compute the accuracy of softmax classification on the train and test datasets.\n",
    "\n",
    "Use np.argmax(A, 1) and np.argmax(Y, 1) to find the predicted and real class for each example. They return an array of numbers each, e.g. [7 3 9 ..., 8 0 8] and [7 3 4 ..., 5 6 8]. Compare them using ==. You will get an array of booleans, e.g. [ True  True False ..., False False  True]. Sum up the latter using np.sum(). True values will be considered 1, False values will be considered 0, so the sum will tell us how many True values we got. Then divide by Y.shape[0] and multiply by 100 to get the accuracy in percentage.    "
   ]
  },
  {
   "cell_type": "code",
   "execution_count": 14,
   "metadata": {},
   "outputs": [
    {
     "name": "stdout",
     "output_type": "stream",
     "text": [
      "Accuracy on the train set is  85.9618181818\n",
      "Accuracy on the test set is  87.02\n"
     ]
    }
   ],
   "source": [
    "# Replace None by your code\n",
    "\n",
    "def accuracy(A, Y):\n",
    "    #print(\"A is\", np.argmax(A, 1))\n",
    "    #print(\"Y is\",np.argmax(Y, 1))\n",
    "    agree = np.argmax(A, 1) == np.argmax(Y, 1)\n",
    "    num_agreements = np.sum(np.argmax(A, 1) == np.argmax(Y, 1))\n",
    "    #print(\"agreement \",agree)\n",
    "    return (num_agreements*100) / Y.shape[0]\n",
    "\n",
    "Z = X @ w + b\n",
    "A = softmax(Z)\n",
    "\n",
    "Z_test = X_test @ w + b\n",
    "A_test = softmax(Z_test)\n",
    "\n",
    "print(\"Accuracy on the train set is \", accuracy(A,Y))\n",
    "print(\"Accuracy on the test set is \", accuracy(A_test,Y_test))"
   ]
  },
  {
   "cell_type": "markdown",
   "metadata": {},
   "source": [
    "*Expected output*\n",
    "\n",
    "<pre>\n",
    "Accuracy on the train set is  66.2927272727\n",
    "Accuracy on the test set is  67.05\n",
    "</pre>\n",
    "\n",
    "Remark. These numbers are for 10 iterations. When you perform 100 iterations, the numbers will be much better."
   ]
  },
  {
   "cell_type": "markdown",
   "metadata": {},
   "source": [
    "Exercise 7 - Implement the Softmax classifier on TensorFlow\n",
    "--\n",
    "Implementing the Softmax classifier on TensorFlow is very similar to the TensorFlow example for binary logistic regression."
   ]
  },
  {
   "cell_type": "code",
   "execution_count": 15,
   "metadata": {
    "collapsed": true
   },
   "outputs": [],
   "source": [
    "import tensorflow as tf"
   ]
  },
  {
   "cell_type": "code",
   "execution_count": 16,
   "metadata": {},
   "outputs": [],
   "source": [
    "# Replace the None objects with your code.\n",
    "\n",
    "# Input data.\n",
    "# Load the training and test data into constants\n",
    "tf_X = tf.constant(X)\n",
    "tf_Y = tf.constant(Y.astype(np.float32))\n",
    "tf_X_test = tf.constant(X_test)\n",
    "tf_Y_test = tf.constant(Y_test.astype(np.float32))\n",
    "\n",
    "# Variables.\n",
    "# These are the parameters that we are going to be training.\n",
    "tf_w = tf.Variable(tf.zeros((n_x,C)))\n",
    "tf_b = tf.Variable(tf.zeros((1,C)))\n",
    "\n",
    "# Training computation.\n",
    "# We multiply the inputs with the weight matrix, and add biases. \n",
    "tf_Z = tf.matmul(tf_X,tf_w) + tf_b\n",
    "\n",
    "# We compute\n",
    "# the softmax and cross-entropy (it's one operation in TensorFlow, because\n",
    "# it's very common, and it can be optimized). We take the average of this\n",
    "# cross-entropy across all training examples: that's our cost.\n",
    "# More concretely, set (uncomment)\n",
    "tf_J = tf.reduce_mean( tf.nn.softmax_cross_entropy_with_logits(labels=tf_Y, logits=tf_Z) ) \n",
    "\n",
    "# Optimizer.\n",
    "# We are going to find the minimum of this loss using gradient descent.\n",
    "# We pass alpha=0.1 as input parameter.\n",
    "# More concretely, set\n",
    "optimizer = tf.train.GradientDescentOptimizer(0.1).minimize(tf_J)\n",
    "\n",
    "# Predictions for the train and test data.\n",
    "# These are not part of training, but merely here so that we can report\n",
    "# accuracy figures as we train.\n",
    "\n",
    "# Uncomment the following lines. \n",
    "tf_A = tf.nn.softmax(tf_Z)\n",
    "tf_A_test = tf.nn.softmax(tf.matmul(tf_X_test, tf_w) + tf_b)"
   ]
  },
  {
   "cell_type": "code",
   "execution_count": 17,
   "metadata": {},
   "outputs": [
    {
     "name": "stdout",
     "output_type": "stream",
     "text": [
      "Initialized\n",
      "0 2.30271\n",
      "1 2.19706\n",
      "2 2.10086\n",
      "3 2.01204\n",
      "4 1.92974\n",
      "5 1.85342\n",
      "6 1.78266\n",
      "7 1.71708\n",
      "8 1.6563\n",
      "9 1.59996\n"
     ]
    }
   ],
   "source": [
    "session = tf.InteractiveSession()\n",
    "\n",
    "# This is a one-time operation which ensures the parameters get initialized as\n",
    "# we described in the graph: random weights for the matrix, zeros for the biases. \n",
    "tf.global_variables_initializer().run()\n",
    "print(\"Initialized\")\n",
    "\n",
    "# Replace None with your code\n",
    "\n",
    "for iter in range(10):\n",
    "    # Run the computations. We tell .run() that we want to run the optimizer,\n",
    "    # and get the cost value and the training predictions returned as numpy arrays.\n",
    "    _,J, A = session.run([optimizer,tf_J,tf_A])\n",
    "    # print the iteration number and the cost for that iteration\n",
    "    print(iter,J)"
   ]
  },
  {
   "cell_type": "markdown",
   "metadata": {},
   "source": [
    "*Expected output*\n",
    "\n",
    "<pre>\n",
    "Initialized\n",
    "0 2.30271\n",
    "1 2.19706\n",
    "2 2.10086\n",
    "3 2.01204\n",
    "4 1.92974\n",
    "5 1.85342\n",
    "6 1.78266\n",
    "7 1.71708\n",
    "8 1.6563\n",
    "9 1.59996\n",
    "</pre>"
   ]
  },
  {
   "cell_type": "code",
   "execution_count": 18,
   "metadata": {},
   "outputs": [
    {
     "name": "stdout",
     "output_type": "stream",
     "text": [
      "Accuracy on the train set is  77.5290909091\n",
      "Accuracy on the test set is  79.02\n"
     ]
    }
   ],
   "source": [
    "# Print out the accuracy for the training set and test set.\n",
    "\n",
    "# Put your code here.\n",
    "\n",
    "# Call .eval() on tf_A and tf_A_test.\n",
    "A = tf_A.eval()\n",
    "A_test = tf_A_test.eval()\n",
    "\n",
    "print(\"Accuracy on the train set is \",accuracy(A,Y))\n",
    "print(\"Accuracy on the test set is \",accuracy(A_test,Y_test))"
   ]
  },
  {
   "cell_type": "markdown",
   "metadata": {},
   "source": [
    "*Expected output*\n",
    "\n",
    "<pre>\n",
    "Accuracy on the train set is  77.5290909091\n",
    "Accuracy on the test set is  79.02\n",
    "</pre>"
   ]
  },
  {
   "cell_type": "markdown",
   "metadata": {},
   "source": [
    "Exercise 8 - Implement a neural network with one hidden layer in Tensorflow.\n",
    "--\n",
    "Turn the previous exercise into a 1-hidden layer neural network with rectified linear units and 15 hidden nodes. The output layer should continue to be softmax.\n",
    "\n",
    "You need to include another set of weights for the hidden layer. \n",
    "The hidden layer should be fully connected to the input layer and to the output layer. \n",
    "Use a learning rate of 0.5 and perform 300 iterations. \n",
    "\n",
    "To get a comparable accuracy with the simple softmax classifier, you should run at least 1001 iterations. Try it out if you have time (it will take some time to run). \n",
    "Print out the cost every 50 iterations.\n",
    "Depending on your machine, the training process could take several minutes.\n",
    "The cost should decrease in every iteration. If not, you have some bug in the code."
   ]
  },
  {
   "cell_type": "code",
   "execution_count": 19,
   "metadata": {},
   "outputs": [],
   "source": [
    "# Replace the None objects with your code.\n",
    "\n",
    "num_hidden_nodes = 15\n",
    "\n",
    "# Input data.\n",
    "# Load the training and test data into constants\n",
    "tf_X = tf.constant(X)\n",
    "tf_Y = tf.constant(Y)\n",
    "tf_X_test = tf.constant(X_test)\n",
    "tf_Y_test = tf.constant(Y_test)\n",
    "\n",
    "# Variables.\n",
    "# These are the parameters that we are going to be training. The weight\n",
    "# matrices will be initialized using random values following a (truncated)\n",
    "# normal distribution. Use\n",
    "# tf.truncated_normal((first_dimension, second_dimension)) for that.\n",
    "# Specify the correct first_dimension and second_dimension for each weight matrix. \n",
    "# The biases get initialized to zero.\n",
    "tf_w1 = tf.Variable(tf.truncated_normal((n_x,num_hidden_nodes)))\n",
    "tf_b1 = tf.Variable(tf.zeros((1,num_hidden_nodes)))\n",
    "tf_w2 = tf.Variable(tf.truncated_normal((num_hidden_nodes,C)))\n",
    "tf_b2 = tf.Variable(tf.zeros((1,C)))\n",
    "\n",
    "\n",
    "# # Forward computation.\n",
    "tf_Z1 = tf.matmul(tf_X,tf_w1) + tf_b1\n",
    "tf_A1 = tf.nn.relu(tf_Z1)    #tf.nn.relu(tf_Z1)\n",
    "tf_Z2 = tf.matmul(tf_A1,tf_w2) + tf_b2\n",
    "tf_A2 = tf.nn.softmax(tf_Z2)\n",
    "\n",
    "tf_J = tf.reduce_mean( tf.nn.softmax_cross_entropy_with_logits(labels=tf_Y, logits=tf_Z2) ) \n",
    "\n",
    "\n",
    "# # Optimizer.\n",
    "optimizer = tf.train.GradientDescentOptimizer(0.5).minimize(tf_J)\n",
    "\n",
    "# # Predictions for the test data.\n",
    "tf_Z1_test = tf.matmul(tf_X_test,tf_w1) + tf_b1\n",
    "tf_A1_test = tf.nn.relu(tf_Z1_test)\n",
    "tf_Z2_test = tf.matmul(tf_A1_test,tf_w2) + tf_b2\n",
    "tf_A2_test = tf.nn.softmax(tf_Z2_test)"
   ]
  },
  {
   "cell_type": "code",
   "execution_count": 20,
   "metadata": {},
   "outputs": [
    {
     "name": "stdout",
     "output_type": "stream",
     "text": [
      "Initialized\n",
      "0 22.6268\n",
      "50 1.40668\n",
      "100 1.16905\n",
      "150 1.03233\n",
      "200 0.936292\n",
      "250 0.86193\n"
     ]
    }
   ],
   "source": [
    "session = tf.InteractiveSession()\n",
    "\n",
    "# This is a one-time operation which ensures the parameters get initialized as\n",
    "# we described in the graph: random weights for the matrix, zeros for the biases. \n",
    "tf.global_variables_initializer().run()\n",
    "print(\"Initialized\")\n",
    "\n",
    "\n",
    "# Replace None with your code.\n",
    "\n",
    "for iter in range(300):\n",
    "    # Run the computations. We tell .run() that we want to run the optimizer,\n",
    "    # and get the cost value and the training predictions returned as numpy arrays.\n",
    "    # Print out the iteration number and cost every 50 iterations.\n",
    "    _,J, A = session.run([optimizer,tf_J,tf_A2])\n",
    "    if iter%50 == 0:\n",
    "        print(iter,J)"
   ]
  },
  {
   "cell_type": "markdown",
   "metadata": {},
   "source": [
    "*Expected output*\n",
    "\n",
    "<pre>\n",
    "Initialized\n",
    "0 35.9117\n",
    "50 1.58068\n",
    "100 1.33825\n",
    "150 1.20126\n",
    "200 1.08693\n",
    "250 0.995857\n",
    "</pre>\n",
    "\n",
    "Remark. In this, and the following exercises, expect your results to be only approximately similar to the ones I put here. This is because we initialize the weights randomly."
   ]
  },
  {
   "cell_type": "code",
   "execution_count": 21,
   "metadata": {},
   "outputs": [
    {
     "name": "stdout",
     "output_type": "stream",
     "text": [
      "Accuracy on the train set is  73.9745454545\n",
      "Accuracy on the test set is  73.32\n"
     ]
    }
   ],
   "source": [
    "# Print out the accuracy for the training set and test set.\n",
    "\n",
    "# Put your code here.\n",
    "\n",
    "# Call .eval() on tf_A2 and tf_A2_test.\n",
    "A = tf_A2.eval()\n",
    "A_test = tf_A2_test.eval()\n",
    "\n",
    "print(\"Accuracy on the train set is \",accuracy(A,Y))\n",
    "print(\"Accuracy on the test set is \",accuracy(A_test,Y_test))"
   ]
  },
  {
   "cell_type": "markdown",
   "metadata": {},
   "source": [
    "*Expected result*\n",
    "\n",
    "<pre>\n",
    "Accuracy on the train set is  69.0272727273\n",
    "Accuracy on the test set is  69.15\n",
    "</pre>"
   ]
  },
  {
   "cell_type": "markdown",
   "metadata": {},
   "source": [
    "Exercise 9 - Stochastic Gradient Descent\n",
    "--\n",
    "As you observed above, 300 iterations are not enough to reach a good accuracy when using more layers, i.e. more weights (parameters) to train. We need more iterations and so it takes more time to train the network.\n",
    "\n",
    "Here we want to do batch stochastic gradient descent and approximate the gradient using batches of training examples. This will make training the network much faster, and we can train for many more iterations in a shorter time. \n",
    "\n",
    "Set num_steps = 5001 (number of iterations) and batch_size = 100. "
   ]
  },
  {
   "cell_type": "code",
   "execution_count": 24,
   "metadata": {},
   "outputs": [],
   "source": [
    "# Replace the None objects by your code.\n",
    "\n",
    "num_hidden_nodes = 1000\n",
    "\n",
    "# Input data.\n",
    "# Let's use placeholders for the training data. \n",
    "# This is so that we can suply batches of tranining examples each iteration.\n",
    "tf_X = tf.placeholder(tf.float32) \n",
    "tf_Y = tf.placeholder(tf.float32)\n",
    "\n",
    "# Variables.\n",
    "# These are the parameters that we are going to be training. The weight\n",
    "# matrices will be initialized using random values following a (truncated)\n",
    "# normal distribution. The biases get initialized to zero.\n",
    "# tf_w1 = tf.Variable(X)\n",
    "# tf_b1 = tf.Variable(Y)\n",
    "# tf_w2 = None\n",
    "# tf_b2 = None\n",
    "\n",
    "tf_w1 = tf.Variable(tf.truncated_normal((n_x,num_hidden_nodes)))\n",
    "tf_b1 = tf.Variable(tf.zeros((1,num_hidden_nodes)))\n",
    "tf_w2 = tf.Variable(tf.truncated_normal((num_hidden_nodes,C)))\n",
    "tf_b2 = tf.Variable(tf.zeros((1,C)))\n",
    "\n",
    "# Forward computation.\n",
    "# tf_Z1 = None\n",
    "# tf_A1 = None\n",
    "# tf_Z2 = None\n",
    "# tf_A2 = None\n",
    "\n",
    "tf_Z1 = tf.matmul(tf_X,tf_w1) + tf_b1\n",
    "tf_A1 = tf.nn.relu(tf_Z1)    #tf.nn.relu(tf_Z1)\n",
    "tf_Z2 = tf.matmul(tf_A1,tf_w2) + tf_b2\n",
    "tf_A2 = tf.nn.softmax(tf_Z2)\n",
    "\n",
    "#tf_J = None\n",
    "tf_J = tf.reduce_mean( tf.nn.softmax_cross_entropy_with_logits(labels=tf_Y, logits=tf_Z2) ) \n",
    "\n",
    "\n",
    "# Optimizer.\n",
    "#optimizer = None\n",
    "optimizer = tf.train.GradientDescentOptimizer(0.5).minimize(tf_J)\n",
    "\n",
    "\n",
    "# Predictions for the test data.\n",
    "# tf_Z1_test = None\n",
    "# tf_A1_test = None\n",
    "# tf_Z2_test = None\n",
    "# tf_A2_test = None\n",
    "tf_Z1_test = tf.matmul(tf_X_test,tf_w1) + tf_b1\n",
    "tf_A1_test = tf.nn.relu(tf_Z1_test)\n",
    "tf_Z2_test = tf.matmul(tf_A1_test,tf_w2) + tf_b2\n",
    "tf_A2_test = tf.nn.softmax(tf_Z2_test)"
   ]
  },
  {
   "cell_type": "code",
   "execution_count": 25,
   "metadata": {},
   "outputs": [
    {
     "name": "stdout",
     "output_type": "stream",
     "text": [
      "Initialized\n",
      "Minibatch loss at step  (0, 270.53113)\n",
      "Minibatch accuracy:  4.0\n",
      "Test accuracy:  27.28\n",
      "Minibatch loss at step  (500, 1.3648442)\n",
      "Minibatch accuracy:  93.0\n",
      "Test accuracy:  92.23\n",
      "Minibatch loss at step  (1000, 0.26484656)\n",
      "Minibatch accuracy:  96.0\n",
      "Test accuracy:  93.36\n",
      "Minibatch loss at step  (1500, 0.15329584)\n",
      "Minibatch accuracy:  97.0\n",
      "Test accuracy:  93.36\n",
      "Minibatch loss at step  (2000, 0.1240167)\n",
      "Minibatch accuracy:  98.0\n",
      "Test accuracy:  94.76\n",
      "Minibatch loss at step  (2500, 0.032524109)\n",
      "Minibatch accuracy:  99.0\n",
      "Test accuracy:  94.67\n",
      "Minibatch loss at step  (3000, 0.00786338)\n",
      "Minibatch accuracy:  100.0\n",
      "Test accuracy:  94.79\n",
      "Minibatch loss at step  (3500, 0.03874239)\n",
      "Minibatch accuracy:  98.0\n",
      "Test accuracy:  94.9\n",
      "Minibatch loss at step  (4000, 0.036572691)\n",
      "Minibatch accuracy:  98.0\n",
      "Test accuracy:  95.05\n",
      "Minibatch loss at step  (4500, 0.015906518)\n",
      "Minibatch accuracy:  100.0\n",
      "Test accuracy:  95.12\n",
      "Minibatch loss at step  (5000, 0.0050326036)\n",
      "Minibatch accuracy:  100.0\n",
      "Test accuracy:  94.94\n"
     ]
    }
   ],
   "source": [
    "# Replace the None objects by your code.\n",
    "\n",
    "num_steps = 5001\n",
    "batch_size = 100\n",
    "\n",
    "tf.global_variables_initializer().run()\n",
    "print(\"Initialized\")\n",
    "\n",
    "for step in range(num_steps):\n",
    "    # Pick an offset within the training data.\n",
    "    offset = (step * batch_size) % (X.shape[0] - batch_size)\n",
    "    \n",
    "    # Generate a minibatch of size batch_size.\n",
    "#     X_batch = None\n",
    "#     Y_batch = None\n",
    "    X_batch = X[offset:(offset + batch_size), :]\n",
    "    Y_batch = Y[offset:(offset + batch_size), :]\n",
    "    \n",
    "    # Uncomment the following lines once you complete the above\n",
    "    _, J, A = session.run([optimizer, tf_J, tf_A2], feed_dict={tf_X : X_batch, tf_Y : Y_batch})\n",
    "    \n",
    "    if (step % 500 == 0):\n",
    "        print(\"Minibatch loss at step \", (step, J))\n",
    "        print(\"Minibatch accuracy: \", accuracy(A, Y_batch))\n",
    "        A_test = tf_A2_test.eval()\n",
    "        print(\"Test accuracy: \", accuracy(A_test,Y_test))"
   ]
  },
  {
   "cell_type": "markdown",
   "metadata": {},
   "source": [
    "*Expected result*\n",
    "\n",
    "<pre>\n",
    "Initialized\n",
    "Minibatch loss at step  (0, 28.198519)\n",
    "Minibatch accuracy:  8.0\n",
    "Test accuracy:  14.12\n",
    "Minibatch loss at step  (500, 0.65256858)\n",
    "Minibatch accuracy:  79.0\n",
    "Test accuracy:  76.83\n",
    "Minibatch loss at step  (1000, 1.3163916)\n",
    "Minibatch accuracy:  76.0\n",
    "Test accuracy:  81.71\n",
    "Minibatch loss at step  (1500, 0.38738632)\n",
    "Minibatch accuracy:  87.0\n",
    "Test accuracy:  87.19\n",
    "Minibatch loss at step  (2000, 0.33017638)\n",
    "Minibatch accuracy:  91.0\n",
    "Test accuracy:  87.71\n",
    "Minibatch loss at step  (2500, 0.45241368)\n",
    "Minibatch accuracy:  85.0\n",
    "Test accuracy:  88.78\n",
    "Minibatch loss at step  (3000, 0.2176722)\n",
    "Minibatch accuracy:  96.0\n",
    "Test accuracy:  90.1\n",
    "Minibatch loss at step  (3500, 0.32031158)\n",
    "Minibatch accuracy:  89.0\n",
    "Test accuracy:  89.45\n",
    "Minibatch loss at step  (4000, 0.54982322)\n",
    "Minibatch accuracy:  89.0\n",
    "Test accuracy:  88.64\n",
    "Minibatch loss at step  (4500, 0.51812667)\n",
    "Minibatch accuracy:  85.0\n",
    "Test accuracy:  90.7\n",
    "Minibatch loss at step  (5000, 0.20552643)\n",
    "Minibatch accuracy:  95.0\n",
    "Test accuracy:  91.01\n",
    "</pre>"
   ]
  },
  {
   "cell_type": "markdown",
   "metadata": {},
   "source": [
    "Now, just for curiosity, make the number of hidden units above quite larger, e.g. 1000, and run the training again. Yes, we can do that using batch SGD and be able to train the quite large network in a reasonable time (several minutes).\n",
    "\n",
    "What's the accuracy you get? "
   ]
  }
 ],
 "metadata": {
  "anaconda-cloud": {},
  "kernelspec": {
   "display_name": "Python 2",
   "language": "python",
   "name": "python2"
  },
  "language_info": {
   "codemirror_mode": {
    "name": "ipython",
    "version": 2
   },
   "file_extension": ".py",
   "mimetype": "text/x-python",
   "name": "python",
   "nbconvert_exporter": "python",
   "pygments_lexer": "ipython2",
   "version": "2.7.14"
  }
 },
 "nbformat": 4,
 "nbformat_minor": 2
}
